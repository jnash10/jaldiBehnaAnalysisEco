{
 "cells": [
  {
   "cell_type": "code",
   "execution_count": 14,
   "metadata": {},
   "outputs": [],
   "source": [
    "import dask.dataframe as dd"
   ]
  },
  {
   "cell_type": "code",
   "execution_count": 28,
   "metadata": {},
   "outputs": [
    {
     "name": "stdout",
     "output_type": "stream",
     "text": [
      "HH_ID\n",
      "STATE\n",
      "HR\n",
      "DISTRICT\n",
      "REGION_TYPE\n",
      "STRATUM\n",
      "PSU_ID\n",
      "MONTH_SLOT\n",
      "MONTH\n",
      "RESPONSE_STATUS\n",
      "NR_REASON\n",
      "FAMILY_SHIFTED\n",
      "HH_WGT_MS\n",
      "R_HH_WGT_MS\n",
      "HH_WGT_FOR_COUNTRY_MS\n",
      "R_HH_WGT_FOR_COUNTRY_MS\n",
      "HH_WGT_FOR_STATE_MS\n",
      "R_HH_WGT_FOR_STATE_MS\n",
      "HH_NR_MS\n",
      "HH_NR_FOR_COUNTRY_MS\n",
      "HH_NR_FOR_STATE_MS\n",
      "AGE_GROUP\n",
      "OCCUPATION_GROUP\n",
      "EDU_GROUP\n",
      "GENDER_GROUP\n",
      "SIZE_GROUP\n",
      "TOT_INC\n",
      "INC_OF_ALL_MEMS_FRM_ALL_SRCS\n",
      "INC_OF_ALL_MEMS_FRM_WAGES\n",
      "INC_OF_ALL_MEMS_FRM_PENSION\n",
      "INC_OF_ALL_MEMS_FRM_DIVIDEND\n",
      "INC_OF_ALL_MEMS_FRM_INTEREST\n",
      "INC_OF_ALL_MEMS_FRM_FD_PF_INS\n",
      "INC_OF_HH_FRM_ALL_SRCS\n",
      "INC_OF_HH_FRM_RENT\n",
      "INC_OF_HH_FRM_SELF_PRODN\n",
      "INC_OF_HH_FRM_PVT_TRF\n",
      "INC_OF_HH_FRM_GOVT_TRF\n",
      "INC_OF_HH_FRM_IN_KIND_GOVT_TRF\n",
      "INC_OF_HH_FRM_NGO_TRF\n",
      "INC_OF_HH_FRM_BIZ_PROFIT\n",
      "INC_OF_HH_FRM_ASSET_SALE\n",
      "INC_OF_HH_FRM_GAMBLING\n"
     ]
    }
   ],
   "source": [
    "householdDF = dd.read_csv('raw months/Apr 2022/household_income.csv')\n",
    "for column in householdDF.columns:\n",
    "    print(column)\n",
    "    "
   ]
  },
  {
   "cell_type": "code",
   "execution_count": null,
   "metadata": {},
   "outputs": [],
   "source": []
  }
 ],
 "metadata": {
  "kernelspec": {
   "display_name": "kinne",
   "language": "python",
   "name": "python3"
  },
  "language_info": {
   "codemirror_mode": {
    "name": "ipython",
    "version": 3
   },
   "file_extension": ".py",
   "mimetype": "text/x-python",
   "name": "python",
   "nbconvert_exporter": "python",
   "pygments_lexer": "ipython3",
   "version": "3.8.19"
  }
 },
 "nbformat": 4,
 "nbformat_minor": 2
}
